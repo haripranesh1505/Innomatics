{
  "nbformat": 4,
  "nbformat_minor": 0,
  "metadata": {
    "colab": {
      "provenance": [],
      "authorship_tag": "ABX9TyMF9p1wNzAUGngXZz5xXEgE",
      "include_colab_link": true
    },
    "kernelspec": {
      "name": "python3",
      "display_name": "Python 3"
    },
    "language_info": {
      "name": "python"
    }
  },
  "cells": [
    {
      "cell_type": "markdown",
      "metadata": {
        "id": "view-in-github",
        "colab_type": "text"
      },
      "source": [
        "<a href=\"https://colab.research.google.com/github/haripranesh1505/Innomatics/blob/main/Hari_Pranesh_Innomatics_ML.ipynb\" target=\"_parent\"><img src=\"https://colab.research.google.com/assets/colab-badge.svg\" alt=\"Open In Colab\"/></a>"
      ]
    },
    {
      "cell_type": "markdown",
      "source": [
        "#HARI PRANESH M\n",
        "#7200832072\n",
        "\n",
        "#haripranesh.m@gmail.com"
      ],
      "metadata": {
        "id": "XtXXLQGGNVu6"
      }
    },
    {
      "cell_type": "code",
      "source": [
        "import matplotlib.pyplot as plt\n",
        "from sklearn import linear_model\n",
        "import numpy as np\n",
        "import pandas as pd\n",
        "from sklearn.linear_model import LinearRegression\n",
        "from sklearn.model_selection import train_test_split\n",
        "from sklearn.preprocessing import StandardScaler\n",
        "from sklearn.impute import SimpleImputer\n",
        "from sklearn.compose import ColumnTransformer\n",
        "from sklearn.pipeline import Pipeline\n",
        "from sklearn.ensemble import RandomForestRegressor\n",
        "from sklearn.metrics import mean_squared_error, r2_score"
      ],
      "metadata": {
        "id": "iYud7lV7-lP7"
      },
      "execution_count": 1,
      "outputs": []
    },
    {
      "cell_type": "code",
      "source": [],
      "metadata": {
        "id": "Xj3ls1g3NhU_"
      },
      "execution_count": 1,
      "outputs": []
    },
    {
      "cell_type": "code",
      "execution_count": 2,
      "metadata": {
        "colab": {
          "base_uri": "https://localhost:8080/",
          "height": 423
        },
        "id": "sM-ljRbJy0gO",
        "outputId": "eefb5345-e9f4-47be-c160-53ded07a0c31"
      },
      "outputs": [
        {
          "output_type": "execute_result",
          "data": {
            "text/plain": [
              "           input      output\n",
              "0    -122.740667 -130.572085\n",
              "1    -121.531419 -129.938929\n",
              "2    -134.917019 -130.141832\n",
              "3    -120.605951 -125.760932\n",
              "4    -129.894781 -112.785214\n",
              "...          ...         ...\n",
              "1692   25.410184  -76.380902\n",
              "1693   29.537304  -82.796934\n",
              "1694   31.633331  -87.000000\n",
              "1695   29.091458 -104.943052\n",
              "1696   17.145296 -101.726894\n",
              "\n",
              "[1697 rows x 2 columns]"
            ],
            "text/html": [
              "\n",
              "  <div id=\"df-869455dc-e1f3-4f4d-8326-02cba74a03c1\">\n",
              "    <div class=\"colab-df-container\">\n",
              "      <div>\n",
              "<style scoped>\n",
              "    .dataframe tbody tr th:only-of-type {\n",
              "        vertical-align: middle;\n",
              "    }\n",
              "\n",
              "    .dataframe tbody tr th {\n",
              "        vertical-align: top;\n",
              "    }\n",
              "\n",
              "    .dataframe thead th {\n",
              "        text-align: right;\n",
              "    }\n",
              "</style>\n",
              "<table border=\"1\" class=\"dataframe\">\n",
              "  <thead>\n",
              "    <tr style=\"text-align: right;\">\n",
              "      <th></th>\n",
              "      <th>input</th>\n",
              "      <th>output</th>\n",
              "    </tr>\n",
              "  </thead>\n",
              "  <tbody>\n",
              "    <tr>\n",
              "      <th>0</th>\n",
              "      <td>-122.740667</td>\n",
              "      <td>-130.572085</td>\n",
              "    </tr>\n",
              "    <tr>\n",
              "      <th>1</th>\n",
              "      <td>-121.531419</td>\n",
              "      <td>-129.938929</td>\n",
              "    </tr>\n",
              "    <tr>\n",
              "      <th>2</th>\n",
              "      <td>-134.917019</td>\n",
              "      <td>-130.141832</td>\n",
              "    </tr>\n",
              "    <tr>\n",
              "      <th>3</th>\n",
              "      <td>-120.605951</td>\n",
              "      <td>-125.760932</td>\n",
              "    </tr>\n",
              "    <tr>\n",
              "      <th>4</th>\n",
              "      <td>-129.894781</td>\n",
              "      <td>-112.785214</td>\n",
              "    </tr>\n",
              "    <tr>\n",
              "      <th>...</th>\n",
              "      <td>...</td>\n",
              "      <td>...</td>\n",
              "    </tr>\n",
              "    <tr>\n",
              "      <th>1692</th>\n",
              "      <td>25.410184</td>\n",
              "      <td>-76.380902</td>\n",
              "    </tr>\n",
              "    <tr>\n",
              "      <th>1693</th>\n",
              "      <td>29.537304</td>\n",
              "      <td>-82.796934</td>\n",
              "    </tr>\n",
              "    <tr>\n",
              "      <th>1694</th>\n",
              "      <td>31.633331</td>\n",
              "      <td>-87.000000</td>\n",
              "    </tr>\n",
              "    <tr>\n",
              "      <th>1695</th>\n",
              "      <td>29.091458</td>\n",
              "      <td>-104.943052</td>\n",
              "    </tr>\n",
              "    <tr>\n",
              "      <th>1696</th>\n",
              "      <td>17.145296</td>\n",
              "      <td>-101.726894</td>\n",
              "    </tr>\n",
              "  </tbody>\n",
              "</table>\n",
              "<p>1697 rows × 2 columns</p>\n",
              "</div>\n",
              "      <button class=\"colab-df-convert\" onclick=\"convertToInteractive('df-869455dc-e1f3-4f4d-8326-02cba74a03c1')\"\n",
              "              title=\"Convert this dataframe to an interactive table.\"\n",
              "              style=\"display:none;\">\n",
              "        \n",
              "  <svg xmlns=\"http://www.w3.org/2000/svg\" height=\"24px\"viewBox=\"0 0 24 24\"\n",
              "       width=\"24px\">\n",
              "    <path d=\"M0 0h24v24H0V0z\" fill=\"none\"/>\n",
              "    <path d=\"M18.56 5.44l.94 2.06.94-2.06 2.06-.94-2.06-.94-.94-2.06-.94 2.06-2.06.94zm-11 1L8.5 8.5l.94-2.06 2.06-.94-2.06-.94L8.5 2.5l-.94 2.06-2.06.94zm10 10l.94 2.06.94-2.06 2.06-.94-2.06-.94-.94-2.06-.94 2.06-2.06.94z\"/><path d=\"M17.41 7.96l-1.37-1.37c-.4-.4-.92-.59-1.43-.59-.52 0-1.04.2-1.43.59L10.3 9.45l-7.72 7.72c-.78.78-.78 2.05 0 2.83L4 21.41c.39.39.9.59 1.41.59.51 0 1.02-.2 1.41-.59l7.78-7.78 2.81-2.81c.8-.78.8-2.07 0-2.86zM5.41 20L4 18.59l7.72-7.72 1.47 1.35L5.41 20z\"/>\n",
              "  </svg>\n",
              "      </button>\n",
              "      \n",
              "  <style>\n",
              "    .colab-df-container {\n",
              "      display:flex;\n",
              "      flex-wrap:wrap;\n",
              "      gap: 12px;\n",
              "    }\n",
              "\n",
              "    .colab-df-convert {\n",
              "      background-color: #E8F0FE;\n",
              "      border: none;\n",
              "      border-radius: 50%;\n",
              "      cursor: pointer;\n",
              "      display: none;\n",
              "      fill: #1967D2;\n",
              "      height: 32px;\n",
              "      padding: 0 0 0 0;\n",
              "      width: 32px;\n",
              "    }\n",
              "\n",
              "    .colab-df-convert:hover {\n",
              "      background-color: #E2EBFA;\n",
              "      box-shadow: 0px 1px 2px rgba(60, 64, 67, 0.3), 0px 1px 3px 1px rgba(60, 64, 67, 0.15);\n",
              "      fill: #174EA6;\n",
              "    }\n",
              "\n",
              "    [theme=dark] .colab-df-convert {\n",
              "      background-color: #3B4455;\n",
              "      fill: #D2E3FC;\n",
              "    }\n",
              "\n",
              "    [theme=dark] .colab-df-convert:hover {\n",
              "      background-color: #434B5C;\n",
              "      box-shadow: 0px 1px 3px 1px rgba(0, 0, 0, 0.15);\n",
              "      filter: drop-shadow(0px 1px 2px rgba(0, 0, 0, 0.3));\n",
              "      fill: #FFFFFF;\n",
              "    }\n",
              "  </style>\n",
              "\n",
              "      <script>\n",
              "        const buttonEl =\n",
              "          document.querySelector('#df-869455dc-e1f3-4f4d-8326-02cba74a03c1 button.colab-df-convert');\n",
              "        buttonEl.style.display =\n",
              "          google.colab.kernel.accessAllowed ? 'block' : 'none';\n",
              "\n",
              "        async function convertToInteractive(key) {\n",
              "          const element = document.querySelector('#df-869455dc-e1f3-4f4d-8326-02cba74a03c1');\n",
              "          const dataTable =\n",
              "            await google.colab.kernel.invokeFunction('convertToInteractive',\n",
              "                                                     [key], {});\n",
              "          if (!dataTable) return;\n",
              "\n",
              "          const docLinkHtml = 'Like what you see? Visit the ' +\n",
              "            '<a target=\"_blank\" href=https://colab.research.google.com/notebooks/data_table.ipynb>data table notebook</a>'\n",
              "            + ' to learn more about interactive tables.';\n",
              "          element.innerHTML = '';\n",
              "          dataTable['output_type'] = 'display_data';\n",
              "          await google.colab.output.renderOutput(dataTable, element);\n",
              "          const docLink = document.createElement('div');\n",
              "          docLink.innerHTML = docLinkHtml;\n",
              "          element.appendChild(docLink);\n",
              "        }\n",
              "      </script>\n",
              "    </div>\n",
              "  </div>\n",
              "  "
            ]
          },
          "metadata": {},
          "execution_count": 2
        }
      ],
      "source": [
        "df=pd.read_csv('/content/dataframe_.csv')\n",
        "df"
      ]
    },
    {
      "cell_type": "code",
      "source": [
        "%matplotlib inline\n",
        "\n",
        "plt.scatter(df.input,df.output, color='red', marker='+')"
      ],
      "metadata": {
        "colab": {
          "base_uri": "https://localhost:8080/",
          "height": 282
        },
        "id": "LP9GlKlS4kur",
        "outputId": "4c049511-2896-476d-dcb3-7411d8acb623"
      },
      "execution_count": 3,
      "outputs": [
        {
          "output_type": "execute_result",
          "data": {
            "text/plain": [
              "<matplotlib.collections.PathCollection at 0x7fdd6e335190>"
            ]
          },
          "metadata": {},
          "execution_count": 3
        },
        {
          "output_type": "display_data",
          "data": {
            "text/plain": [
              "<Figure size 432x288 with 1 Axes>"
            ],
            "image/png": "[encoded data removed]"
          },
          "metadata": {
            "needs_background": "light"
          }
        }
      ]
    },
    {
      "cell_type": "code",
      "source": [
        "# Remove rows with missing values in the 'input' and 'output' columns\n",
        "df = df.dropna(subset=['input', 'output'])\n",
        "\n",
        "# Create a linear regression model and fit it to the data\n",
        "model = linear_model.LinearRegression()\n",
        "model.fit(df[['input']], df['output'])"
      ],
      "metadata": {
        "colab": {
          "base_uri": "https://localhost:8080/"
        },
        "id": "3XEsSSniLF1W",
        "outputId": "79f6d4eb-08aa-4c1e-d037-a02512caeaad"
      },
      "execution_count": 4,
      "outputs": [
        {
          "output_type": "execute_result",
          "data": {
            "text/plain": [
              "LinearRegression()"
            ]
          },
          "metadata": {},
          "execution_count": 4
        }
      ]
    },
    {
      "cell_type": "code",
      "source": [
        "X = df[['input']]\n",
        "y = df['output']"
      ],
      "metadata": {
        "id": "FakBy4-qCjN8"
      },
      "execution_count": 5,
      "outputs": []
    },
    {
      "cell_type": "code",
      "source": [
        "model.coef_"
      ],
      "metadata": {
        "id": "5_xg85ZsBlx_",
        "colab": {
          "base_uri": "https://localhost:8080/"
        },
        "outputId": "896e3ef3-6a0a-46fa-e881-4e0a79439914"
      },
      "execution_count": 6,
      "outputs": [
        {
          "output_type": "execute_result",
          "data": {
            "text/plain": [
              "array([0.42604447])"
            ]
          },
          "metadata": {},
          "execution_count": 6
        }
      ]
    },
    {
      "cell_type": "code",
      "source": [
        "model.intercept_"
      ],
      "metadata": {
        "id": "W62hI2J7DAgD",
        "colab": {
          "base_uri": "https://localhost:8080/"
        },
        "outputId": "cf437933-1ca9-4a8f-a052-a57a68c55ee3"
      },
      "execution_count": 7,
      "outputs": [
        {
          "output_type": "execute_result",
          "data": {
            "text/plain": [
              "-34.58220008713727"
            ]
          },
          "metadata": {},
          "execution_count": 7
        }
      ]
    },
    {
      "cell_type": "code",
      "source": [
        "%matplotlib inline\n",
        "plt.xlabel('input',fontsize=20)\n",
        "plt.ylabel('output',fontsize=20)\n",
        "plt.scatter(df.input,df.output, color='red', marker='+')\n",
        "plt.plot(df.input,model.predict(X),color='blue')"
      ],
      "metadata": {
        "id": "8kWNYbp2DC2j",
        "colab": {
          "base_uri": "https://localhost:8080/",
          "height": 305
        },
        "outputId": "9d960e78-08b2-4ef5-bb41-63b411992e60"
      },
      "execution_count": 8,
      "outputs": [
        {
          "output_type": "execute_result",
          "data": {
            "text/plain": [
              "[<matplotlib.lines.Line2D at 0x7fdd6be20b50>]"
            ]
          },
          "metadata": {},
          "execution_count": 8
        },
        {
          "output_type": "display_data",
          "data": {
            "text/plain": [
              "<Figure size 432x288 with 1 Axes>"
            ],
            "image/png": "[encoded data removed]"
          },
          "metadata": {
            "needs_background": "light"
          }
        }
      ]
    },
    {
      "cell_type": "code",
      "source": [
        "from sklearn.metrics import mean_squared_error, mean_absolute_error, r2_score\n",
        "\n",
        "# Split the data into training and testing sets\n",
        "X_train, X_test, y_train, y_test = train_test_split(X, y, test_size=0.2, random_state=0)\n",
        "\n",
        "# Train the model on the training data\n",
        "model.fit(X_train, y_train)\n",
        "\n",
        "# Make predictions on the test data\n",
        "y_pred = model.predict(X_test)\n",
        "\n",
        "# Calculate the mean squared error (MSE)\n",
        "mse = mean_squared_error(y_test, y_pred)\n",
        "print(\"Mean Squared Error (MSE): {:.2f}\".format(mse))\n",
        "\n",
        "# Calculate the mean absolute error (MAE)\n",
        "mae = mean_absolute_error(y_test, y_pred)\n",
        "print(\"Mean Absolute Error (MAE): {:.2f}\".format(mae))\n",
        "\n",
        "# Calculate the coefficient of determination (R^2)\n",
        "r2 = r2_score(y_test, y_pred)\n",
        "print(\"R^2 Score: {:.2f}\".format(r2))\n"
      ],
      "metadata": {
        "colab": {
          "base_uri": "https://localhost:8080/"
        },
        "id": "fxd4UnhlIziY",
        "outputId": "991d87cc-4cbf-4300-c89b-fed6bef9f877"
      },
      "execution_count": 9,
      "outputs": [
        {
          "output_type": "stream",
          "name": "stdout",
          "text": [
            "Mean Squared Error (MSE): 3291.41\n",
            "Mean Absolute Error (MAE): 43.90\n",
            "R^2 Score: 0.30\n"
          ]
        }
      ]
    },
    {
      "cell_type": "markdown",
      "source": [
        "#Hyper Tuning"
      ],
      "metadata": {
        "id": "bl92Li0QJ_M3"
      }
    },
    {
      "cell_type": "code",
      "source": [
        "Q1 = df['input'].quantile(0.25)\n",
        "Q3 = df['input'].quantile(0.75)\n",
        "IQR = Q3 - Q1\n",
        "df = df[~((df['input'] < (Q1 - 1.5 * IQR)) | (df['input'] > (Q3 + 1.5 * IQR)))]"
      ],
      "metadata": {
        "id": "AZT4Lh4dKFv4"
      },
      "execution_count": 10,
      "outputs": []
    },
    {
      "cell_type": "code",
      "source": [
        "X = df[['input']]\n",
        "y = df['output']"
      ],
      "metadata": {
        "id": "Ckrxt3fEKFzT"
      },
      "execution_count": 11,
      "outputs": []
    },
    {
      "cell_type": "code",
      "source": [
        "#Create a pipeline for the data pre-processing and model training\n",
        "pipeline = Pipeline([\n",
        "('scaler', StandardScaler()),\n",
        "('imputer', SimpleImputer()),\n",
        "('regressor', RandomForestRegressor(n_estimators=100, random_state=0))\n",
        "])\n",
        "\n",
        "pipeline.fit(X, y)"
      ],
      "metadata": {
        "colab": {
          "base_uri": "https://localhost:8080/"
        },
        "id": "3ICUH37_KF9c",
        "outputId": "dee789af-ad48-4111-e59c-8ec4caf7b00a"
      },
      "execution_count": 12,
      "outputs": [
        {
          "output_type": "execute_result",
          "data": {
            "text/plain": [
              "Pipeline(steps=[('scaler', StandardScaler()), ('imputer', SimpleImputer()),\n",
              "                ('regressor', RandomForestRegressor(random_state=0))])"
            ]
          },
          "metadata": {},
          "execution_count": 12
        }
      ]
    },
    {
      "cell_type": "code",
      "source": [
        "# Use the pipeline to make predictions on the test data\n",
        "y_pred = pipeline.predict(X)"
      ],
      "metadata": {
        "id": "heujPIF-Kf7f"
      },
      "execution_count": 13,
      "outputs": []
    },
    {
      "cell_type": "code",
      "source": [
        "# Evaluate the model performance\n",
        "mse = mean_squared_error(y, y_pred)\n",
        "r2 = r2_score(y, y_pred)\n",
        "\n",
        "# Print the evaluation metrics\n",
        "print(\"Mean Squared Error: {:.2f}\".format(mse))\n",
        "print(\"R2 Score: {:.2f}\".format(r2))\n",
        "\n",
        "\n",
        "lr_score = model.score(X_test, y_test)\n",
        "print(\"Test score: {:.2f}\".format(lr_score))"
      ],
      "metadata": {
        "colab": {
          "base_uri": "https://localhost:8080/"
        },
        "id": "W2oiDASbKlpf",
        "outputId": "27ce0c67-3237-4296-ae89-9b683ca63f07"
      },
      "execution_count": 14,
      "outputs": [
        {
          "output_type": "stream",
          "name": "stdout",
          "text": [
            "Mean Squared Error: 252.25\n",
            "R2 Score: 0.94\n",
            "Test score: 0.30\n"
          ]
        }
      ]
    },
    {
      "cell_type": "code",
      "source": [],
      "metadata": {
        "id": "VEV1HV7lRg98"
      },
      "execution_count": 14,
      "outputs": []
    },
    {
      "cell_type": "markdown",
      "source": [
        "#RANDOM FOREST"
      ],
      "metadata": {
        "id": "hR7MjH_2FHd3"
      }
    },
    {
      "cell_type": "code",
      "source": [
        "from sklearn.ensemble import RandomForestRegressor\n",
        "from sklearn.model_selection import train_test_split\n",
        "\n",
        "# Split the data into training and testing sets\n",
        "X_train, X_test, y_train, y_test = train_test_split(df[['input']], df['output'], test_size=0.2, random_state=0)\n",
        "\n",
        "# Train the model\n",
        "model = RandomForestRegressor(n_estimators=100, random_state=0)\n",
        "model.fit(X_train, y_train)\n",
        "\n",
        "# Make predictions on the test data\n",
        "y_pred = model.predict(X_test)\n",
        "\n",
        "# Evaluate the model\n",
        "score = model.score(X_test, y_test)\n",
        "print(\"Test score: {:.2f}\".format(score))"
      ],
      "metadata": {
        "id": "Z4QyRSOxD58s",
        "colab": {
          "base_uri": "https://localhost:8080/"
        },
        "outputId": "10635836-8c69-49b8-aca7-4fe970cd27ca"
      },
      "execution_count": 15,
      "outputs": [
        {
          "output_type": "stream",
          "name": "stdout",
          "text": [
            "Test score: 0.69\n"
          ]
        }
      ]
    },
    {
      "cell_type": "code",
      "source": [
        "from sklearn.metrics import mean_squared_error, mean_absolute_error, r2_score\n",
        "\n",
        "# Calculate the mean squared error (MSE)\n",
        "mse = mean_squared_error(y_test, y_pred)\n",
        "print(\"Mean Squared Error (MSE): {:.2f}\".format(mse))\n",
        "\n",
        "# Calculate the mean absolute error (MAE)\n",
        "mae = mean_absolute_error(y_test, y_pred)\n",
        "print(\"Mean Absolute Error (MAE): {:.2f}\".format(mae))\n",
        "\n",
        "# Calculate the coefficient of determination (R^2)\n",
        "r2 = r2_score(y_test, y_pred)\n",
        "print(\"R^2 Score: {:.2f}\".format(r2))\n"
      ],
      "metadata": {
        "id": "T8mzMIsOFBCP",
        "colab": {
          "base_uri": "https://localhost:8080/"
        },
        "outputId": "46221942-b695-4430-e855-74517d080a40"
      },
      "execution_count": 16,
      "outputs": [
        {
          "output_type": "stream",
          "name": "stdout",
          "text": [
            "Mean Squared Error (MSE): 1481.45\n",
            "Mean Absolute Error (MAE): 19.06\n",
            "R^2 Score: 0.69\n"
          ]
        }
      ]
    },
    {
      "cell_type": "markdown",
      "source": [
        "#Hyper Tuning"
      ],
      "metadata": {
        "id": "Ya20-V0qLtHT"
      }
    },
    {
      "cell_type": "code",
      "source": [
        "import numpy as np\n",
        "import pandas as pd\n",
        "from sklearn.ensemble import RandomForestRegressor\n",
        "from sklearn.model_selection import train_test_split, GridSearchCV\n",
        "from sklearn.pipeline import Pipeline\n",
        "from sklearn.preprocessing import StandardScaler\n",
        "import scipy.stats as stats\n",
        "\n",
        "\n",
        "# Detect and treat outliers\n",
        "z = np.abs(stats.zscore(df))\n",
        "df = df[(z < 3).all(axis=1)]\n",
        "\n",
        "# Define the feature and target arrays\n",
        "X = df[['input']]\n",
        "y = df['output']\n",
        "\n",
        "# Split the data into training and testing sets\n",
        "X_train, X_test, y_train, y_test = train_test_split(X, y, test_size=0.2, random_state=0)\n",
        "\n",
        "# Define the pipeline for feature scaling and model fitting\n",
        "pipeline = Pipeline([\n",
        "    ('scaler', StandardScaler()),\n",
        "    ('model', RandomForestRegressor(n_estimators=100, random_state=0))\n",
        "])\n",
        "\n",
        "# Define the hyperparameters and possible values for grid search\n",
        "param_grid = {\n",
        "    'model__n_estimators': [50, 100, 200],\n",
        "    'model__max_depth': [5, 10, 20],\n",
        "    'model__min_samples_split': [2, 4, 8]\n",
        "}\n",
        "\n",
        "# Perform grid search to find the best hyperparameters\n",
        "grid_search = GridSearchCV(pipeline, param_grid, cv=5)\n",
        "grid_search.fit(X_train, y_train)\n",
        "\n",
        "# Train the model with the best hyperparameters\n",
        "model = grid_search.best_estimator_\n",
        "model.fit(X_train, y_train)\n",
        "\n",
        "# Make predictions on the test data\n",
        "y_pred = model.predict(X_test)\n",
        "\n",
        "# Evaluate the model\n",
        "rf_score = model.score(X_test, y_test)\n",
        "print(\"Test score: {:.2f}\".format(rf_score))\n"
      ],
      "metadata": {
        "id": "xskkVrGoG9vH",
        "colab": {
          "base_uri": "https://localhost:8080/"
        },
        "outputId": "a20e82a8-6131-4639-9a0c-f11b9a63be41"
      },
      "execution_count": 17,
      "outputs": [
        {
          "output_type": "stream",
          "name": "stdout",
          "text": [
            "Test score: 0.72\n"
          ]
        }
      ]
    },
    {
      "cell_type": "code",
      "source": [],
      "metadata": {
        "id": "E8tT3B93Mkaw"
      },
      "execution_count": 17,
      "outputs": []
    },
    {
      "cell_type": "markdown",
      "source": [
        "#SVM\n"
      ],
      "metadata": {
        "id": "qjj7nVd4NBvY"
      }
    },
    {
      "cell_type": "code",
      "source": [
        "from sklearn.svm import SVR\n",
        "from sklearn.model_selection import train_test_split\n",
        "\n",
        "# Split the data into training and testing sets\n",
        "X_train, X_test, y_train, y_test = train_test_split(df[['input']], df['output'], test_size=0.2, random_state=0)\n",
        "\n",
        "# Train the model\n",
        "model = SVR(kernel='linear')\n",
        "model.fit(X_train, y_train)\n",
        "\n",
        "# Make predictions on the test data\n",
        "y_pred = model.predict(X_test)\n",
        "\n",
        "# Evaluate the model\n",
        "score = model.score(X_test, y_test)\n",
        "print(\"Test score: {:.2f}\".format(score))\n"
      ],
      "metadata": {
        "colab": {
          "base_uri": "https://localhost:8080/"
        },
        "id": "uaW_O6mpNAyu",
        "outputId": "1589bc7d-cf88-432d-f9ae-1508afa46343"
      },
      "execution_count": 18,
      "outputs": [
        {
          "output_type": "stream",
          "name": "stdout",
          "text": [
            "Test score: 0.27\n"
          ]
        }
      ]
    },
    {
      "cell_type": "markdown",
      "source": [
        "#Hyper Tuning"
      ],
      "metadata": {
        "id": "r4gWpc2LNpUA"
      }
    },
    {
      "cell_type": "code",
      "source": [
        "import numpy as np\n",
        "import pandas as pd\n",
        "import seaborn as sns\n",
        "import matplotlib.pyplot as plt\n",
        "from scipy import stats\n",
        "from sklearn.svm import SVR\n",
        "from sklearn.model_selection import train_test_split\n",
        "from sklearn.model_selection import GridSearchCV\n",
        "\n",
        "# Load the data\n",
        "# df = pd.read_csv(\"data.csv\")\n",
        "\n",
        "# Detect and treat outliers\n",
        "z = np.abs(stats.zscore(df))\n",
        "df = df[(z < 3).all(axis=1)]\n",
        "\n",
        "# Plot the data to visualize the relationship between the input and output\n",
        "sns.scatterplot(x='input', y='output', data=df)\n",
        "plt.show()\n",
        "\n",
        "# Split the data into training and testing sets\n",
        "X_train, X_test, y_train, y_test = train_test_split(df[['input']], df['output'], test_size=0.2, random_state=0)\n",
        "\n",
        "# Train the model\n",
        "model = SVR(kernel='linear')\n",
        "model.fit(X_train, y_train)\n",
        "\n",
        "# Make predictions on the test data\n",
        "y_pred = model.predict(X_test)\n",
        "\n",
        "# Evaluate the model\n",
        "score = model.score(X_test, y_test)\n",
        "print(\"Test score: {:.2f}\".format(score))\n",
        "\n",
        "# Define the parameter grid for hyperparameter tuning\n",
        "param_grid = {'C': [0.1, 1, 10, 100],\n",
        "              'kernel': ['linear', 'rbf', 'poly', 'sigmoid'],\n",
        "              'degree': [2, 3, 4]}\n",
        "\n",
        "# Perform grid search with cross-validation to find the best hyperparameters\n",
        "grid_search = GridSearchCV(model, param_grid, cv=5)\n",
        "grid_search.fit(X_train, y_train)\n",
        "\n",
        "# Print the best hyperparameters and the best score achieved during the grid search\n",
        "print(\"Best hyperparameters:\", grid_search.best_params_)\n",
        "print(\"Best score: {:.2f}\".format(grid_search.best_score_))\n",
        "\n",
        "# Train the final model with the best hyperparameters\n",
        "model = SVR(C=grid_search.best_params_['C'],\n",
        "            kernel=grid_search.best_params_['kernel'],\n",
        "            degree=grid_search.best_params_['degree'])\n",
        "model.fit(X_train, y_train)\n",
        "\n",
        "# Evaluate the final model on the test data\n",
        "svm_score = model.score(X_test, y_test)\n",
        "print(\"Test score of the final model: {:.2f}\".format(svm_score))\n"
      ],
      "metadata": {
        "colab": {
          "base_uri": "https://localhost:8080/",
          "height": 348
        },
        "id": "hm83Rtp-PTx6",
        "outputId": "5d3fd79f-0220-4c36-f6bb-0b3233993c90"
      },
      "execution_count": 19,
      "outputs": [
        {
          "output_type": "display_data",
          "data": {
            "text/plain": [
              "<Figure size 432x288 with 1 Axes>"
            ],
            "image/png": "[encoded data removed]"
          },
          "metadata": {
            "needs_background": "light"
          }
        },
        {
          "output_type": "stream",
          "name": "stdout",
          "text": [
            "Test score: 0.27\n",
            "Best hyperparameters: {'C': 10, 'degree': 2, 'kernel': 'rbf'}\n",
            "Best score: 0.65\n",
            "Test score of the final model: 0.72\n"
          ]
        }
      ]
    },
    {
      "cell_type": "markdown",
      "source": [
        "#Comparsion"
      ],
      "metadata": {
        "id": "bccpqTPsSLkp"
      }
    },
    {
      "cell_type": "code",
      "source": [
        "import matplotlib.pyplot as plt\n",
        "\n",
        "# Define the test scores for each model\n",
        "scores = {'Linear Regression': lr_score,\n",
        "          'Random Forest': rf_score,\n",
        "          'Support Vector Machine': svm_score}\n",
        "\n",
        "# Plot the scores as a bar chart\n",
        "plt.bar(scores.keys(), scores.values(), color='g')\n",
        "plt.ylabel('Test Score')\n",
        "plt.title('Comparison of Model Test Scores')\n",
        "plt.show()\n"
      ],
      "metadata": {
        "colab": {
          "base_uri": "https://localhost:8080/",
          "height": 281
        },
        "id": "skQsMzMBSNV9",
        "outputId": "128cf59d-3fa4-4718-8b85-669c740b56ac"
      },
      "execution_count": 20,
      "outputs": [
        {
          "output_type": "display_data",
          "data": {
            "text/plain": [
              "<Figure size 432x288 with 1 Axes>"
            ],
            "image/png": "[encoded data removed]"
          },
          "metadata": {
            "needs_background": "light"
          }
        }
      ]
    },
    {
      "cell_type": "markdown",
      "source": [
        "The best model is Random forest and Support vector machine\n",
        "\n",
        "Here are some observations about the three models:\n",
        "\n",
        "Linear Regression:\n",
        "\n",
        "Linear Regression is a simple and fast model that is suitable for linear relationships between the input and output features.\n",
        "It is highly interpretable, as the coefficients of the model can be used to determine the impact of each input feature on the output.\n",
        "However, it may not perform well on complex or non-linear relationships between the input and output.\n",
        "Random Forest:\n",
        "\n",
        "Random Forest is an ensemble of decision trees that is capable of modeling non-linear relationships.\n",
        "It can handle large datasets with many features and can handle missing or noisy data.\n",
        "However, it may be less interpretable compared to Linear Regression, as the relationships between the input and output features are determined by many decision trees.\n",
        "\n",
        "\n",
        "Support Vector Machine (SVM):\n",
        "\n",
        "SVM is a powerful model for classification and regression tasks, particularly for problems with high-dimensional data and non-linear relationships.\n",
        "It can handle large datasets with many features and is highly effective for small datasets as well.\n",
        "However, SVM may be more computationally expensive than other models and may be less interpretable compared to Linear Regression.\n",
        "In conclusion, it is important to consider the type of problem, the size of the data, the number of features, and the quality of the data when choosing a model. It may be useful to try several models and compare their performance to determine the best model for a particular problem.\n",
        "\n",
        "\n",
        "\n"
      ],
      "metadata": {
        "id": "7g1YByyvQL-P"
      }
    }
  ]
}